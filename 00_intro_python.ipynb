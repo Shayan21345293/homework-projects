{
  "nbformat": 4,
  "nbformat_minor": 0,
  "metadata": {
    "colab": {
      "provenance": [],
      "authorship_tag": "ABX9TyOqLrDS151w2EUfPxi9Jcq8",
      "include_colab_link": true
    },
    "kernelspec": {
      "name": "python3",
      "display_name": "Python 3"
    },
    "language_info": {
      "name": "python"
    }
  },
  "cells": [
    {
      "cell_type": "markdown",
      "metadata": {
        "id": "view-in-github",
        "colab_type": "text"
      },
      "source": [
        "<a href=\"https://colab.research.google.com/github/Shayan21345293/homework-projects/blob/main/00_intro_python.ipynb\" target=\"_parent\"><img src=\"https://colab.research.google.com/assets/colab-badge.svg\" alt=\"Open In Colab\"/></a>"
      ]
    },
    {
      "cell_type": "markdown",
      "source": [
        "**BY SHAYAN ALI**"
      ],
      "metadata": {
        "id": "KlrCNYQan-Xt"
      }
    },
    {
      "cell_type": "markdown",
      "source": [
        "**01_add_two_numbers**"
      ],
      "metadata": {
        "id": "RiVMEOXtflne"
      }
    },
    {
      "cell_type": "code",
      "source": [
        "def main():\n",
        "    print(\"This program adds two numbers\")\n",
        "    num1 = int(input(\"Enter your first number: \"))\n",
        "    num2 = int(input(\"Enter your second number: \"))\n",
        "    total = num1 + num2\n",
        "    print(f\"The total is {total}\")\n",
        "\n",
        "if __name__ == '__main__':\n",
        "    main()\n"
      ],
      "metadata": {
        "colab": {
          "base_uri": "https://localhost:8080/"
        },
        "id": "FhPc46icfr7N",
        "outputId": "cacf45d0-0140-4139-d70d-7e17bbd881a3"
      },
      "execution_count": 15,
      "outputs": [
        {
          "output_type": "stream",
          "name": "stdout",
          "text": [
            "This program adds two numbers\n",
            "Enter your first number: 1\n",
            "Enter your second number: 2\n",
            "The total is 3\n"
          ]
        }
      ]
    },
    {
      "cell_type": "markdown",
      "source": [
        "**02_agreement_bot**"
      ],
      "metadata": {
        "id": "NtVHc701hrF_"
      }
    },
    {
      "cell_type": "code",
      "source": [
        "def bot():\n",
        "  ask=str(input(\"What's your favorite animal?\"))\n",
        "  print(f\"My favorite animal is also {ask}!\")\n",
        "\n",
        "if __name__ == '__main__':\n",
        "    bot()"
      ],
      "metadata": {
        "colab": {
          "base_uri": "https://localhost:8080/"
        },
        "id": "E2X7BOqziJrm",
        "outputId": "d617fc13-3372-44fb-e238-4ada57cf1bc1"
      },
      "execution_count": 19,
      "outputs": [
        {
          "output_type": "stream",
          "name": "stdout",
          "text": [
            "What's your favorite animal?cow\n",
            "My favorite animal is also cow!\n"
          ]
        }
      ]
    },
    {
      "cell_type": "markdown",
      "source": [
        "**03_fahrenheit_to_celsius**"
      ],
      "metadata": {
        "id": "teS0-MKzjLjR"
      }
    },
    {
      "cell_type": "code",
      "source": [
        "def main():\n",
        "\n",
        "    fahrenheit = float(input(\"Enter temperature in Fahrenheit: \"))\n",
        "\n",
        "\n",
        "    celsius = (fahrenheit - 32) * 5.0 / 9.0\n",
        "\n",
        "    print(f\"Temperature: {fahrenheit:.1f}F = {celsius:.15f}C\")\n",
        "\n",
        "if __name__ == '__main__':\n",
        "    main()\n"
      ],
      "metadata": {
        "colab": {
          "base_uri": "https://localhost:8080/"
        },
        "id": "SXBi8ZIWjSw3",
        "outputId": "d6ab918e-1eeb-4c81-a50c-34c67c6aac01"
      },
      "execution_count": 20,
      "outputs": [
        {
          "output_type": "stream",
          "name": "stdout",
          "text": [
            "Enter temperature in Fahrenheit: 1\n",
            "Temperature: 1.0F = -17.222222222222221C\n"
          ]
        }
      ]
    },
    {
      "cell_type": "markdown",
      "source": [
        "**04_how_old_are_they**"
      ],
      "metadata": {
        "id": "eszCG4-EkCMJ"
      }
    },
    {
      "cell_type": "code",
      "source": [
        "def main():\n",
        "    anton: int = 21\n",
        "    beth: int = anton + 6\n",
        "    chen: int = beth + 20\n",
        "    drew: int = chen + anton\n",
        "    ethan: int = chen\n",
        "\n",
        "\n",
        "    print(f\"Anton is {anton}\")\n",
        "    print(f\"Beth is {beth}\")\n",
        "    print(f\"Chen is {chen}\")\n",
        "    print(f\"Drew is {drew}\")\n",
        "    print(f\"Ethan is {ethan}\")\n",
        "\n",
        "\n",
        "if __name__ == '__main__':\n",
        "    main()\n"
      ],
      "metadata": {
        "colab": {
          "base_uri": "https://localhost:8080/"
        },
        "id": "pqc1Tg-SkKq_",
        "outputId": "fe192e7b-64c5-48f9-d0d3-daa2b0436a58"
      },
      "execution_count": 21,
      "outputs": [
        {
          "output_type": "stream",
          "name": "stdout",
          "text": [
            "Anton is 21\n",
            "Beth is 27\n",
            "Chen is 47\n",
            "Drew is 68\n",
            "Ethan is 47\n"
          ]
        }
      ]
    },
    {
      "cell_type": "markdown",
      "source": [
        "**05_triangle_perimeter**"
      ],
      "metadata": {
        "id": "k-7ONyR0luaQ"
      }
    },
    {
      "cell_type": "code",
      "source": [
        "def main():\n",
        "  side1=int(input(\"What is the input of side 1:\"))\n",
        "  side2=int(input(\"What is the input of side 2:\"))\n",
        "  side3=int(input(\"What is the input of side 3:\"))\n",
        "  print(f\"The perimeter of triangle is {side1+side2+side3}\")\n",
        "\n",
        "\n",
        "if __name__ == '__main__':\n",
        "    main()"
      ],
      "metadata": {
        "colab": {
          "base_uri": "https://localhost:8080/"
        },
        "id": "VhYFjImml7yo",
        "outputId": "68a97e52-a70e-4175-c874-fa23d07aff79"
      },
      "execution_count": 23,
      "outputs": [
        {
          "output_type": "stream",
          "name": "stdout",
          "text": [
            "What is the input of side 1:1\n",
            "What is the input of side 2:1\n",
            "What is the input of side 3:1\n",
            "The perimeter of triangle is 3\n"
          ]
        }
      ]
    },
    {
      "cell_type": "markdown",
      "source": [
        "**06_square_number**"
      ],
      "metadata": {
        "id": "iFDA8_rdnStC"
      }
    },
    {
      "cell_type": "code",
      "source": [
        "\n",
        "def main():\n",
        "    num: float = float(input(\"Type a number to see its square: \"))\n",
        "    print(str(num) + \" squared is \" + str(num ** 2))\n",
        "\n",
        "\n",
        "\n",
        "if __name__ == '__main__':\n",
        "    main()\n"
      ],
      "metadata": {
        "colab": {
          "base_uri": "https://localhost:8080/"
        },
        "id": "2PcaKeXenVva",
        "outputId": "9c8d2f64-552f-4133-aa6f-db141f7ad301"
      },
      "execution_count": 24,
      "outputs": [
        {
          "output_type": "stream",
          "name": "stdout",
          "text": [
            "Type a number to see its square: 2\n",
            "2.0 squared is 4.0\n"
          ]
        }
      ]
    },
    {
      "cell_type": "markdown",
      "source": [],
      "metadata": {
        "id": "k2lAfqRxn8t6"
      }
    }
  ]
}