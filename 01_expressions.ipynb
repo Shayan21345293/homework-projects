{
  "nbformat": 4,
  "nbformat_minor": 0,
  "metadata": {
    "colab": {
      "provenance": [],
      "authorship_tag": "ABX9TyM2Ptd2nmzVYO61Db63hcWH",
      "include_colab_link": true
    },
    "kernelspec": {
      "name": "python3",
      "display_name": "Python 3"
    },
    "language_info": {
      "name": "python"
    }
  },
  "cells": [
    {
      "cell_type": "markdown",
      "metadata": {
        "id": "view-in-github",
        "colab_type": "text"
      },
      "source": [
        "<a href=\"https://colab.research.google.com/github/Shayan21345293/homework-projects/blob/main/01_expressions.ipynb\" target=\"_parent\"><img src=\"https://colab.research.google.com/assets/colab-badge.svg\" alt=\"Open In Colab\"/></a>"
      ]
    },
    {
      "cell_type": "markdown",
      "source": [
        "**01_dicesimulator**"
      ],
      "metadata": {
        "id": "EfNIOjRqrXzT"
      }
    },
    {
      "cell_type": "code",
      "execution_count": null,
      "metadata": {
        "colab": {
          "base_uri": "https://localhost:8080/"
        },
        "id": "eDrBE40IrNCa",
        "outputId": "c90738b8-e3cb-44ec-8102-7e3c036c544f"
      },
      "outputs": [
        {
          "output_type": "stream",
          "name": "stdout",
          "text": [
            "die1 in main() starts as: 10\n",
            "Rolled: 3 and 2 (Total: 5)\n",
            "Rolled: 3 and 5 (Total: 8)\n",
            "Rolled: 2 and 4 (Total: 6)\n",
            "die1 in main() is still: 10\n"
          ]
        }
      ],
      "source": [
        "import random\n",
        "\n",
        "NUM_SIDES = 6\n",
        "\n",
        "def roll_dice():\n",
        "    \"\"\"\n",
        "    Simulates rolling two dice and prints their individual values and total.\n",
        "    \"\"\"\n",
        "    die1: int = random.randint(1, NUM_SIDES)\n",
        "    die2: int = random.randint(1, NUM_SIDES)\n",
        "    total: int = die1 + die2\n",
        "    print(f\"Rolled: {die1} and {die2} (Total: {total})\")\n",
        "\n",
        "def main():\n",
        "    die1: int = 10\n",
        "    print(f\"die1 in main() starts as: {die1}\")\n",
        "\n",
        "\n",
        "    roll_dice()\n",
        "    roll_dice()\n",
        "    roll_dice()\n",
        "\n",
        "    print(f\"die1 in main() is still: {die1}\")\n",
        "\n",
        "\n",
        "if __name__ == '__main__':\n",
        "    main()\n"
      ]
    },
    {
      "cell_type": "markdown",
      "source": [
        "**02_e=mc2**\n"
      ],
      "metadata": {
        "id": "-_JFmogbpLYK"
      }
    },
    {
      "cell_type": "code",
      "source": [
        "C: int = 299792458\n",
        "\n",
        "def main():\n",
        "    mass_in_kg: float = float(input(\"Enter kilos of mass: \"))\n",
        "\n",
        "    energy_in_joules: float = mass_in_kg * (C ** 2)\n",
        "\n",
        "\n",
        "    print(\"e = m * C^2...\")\n",
        "    print(\"m = \" + str(mass_in_kg) + \" kg\")\n",
        "    print(\"C = \" + str(C) + \" m/s\")\n",
        "\n",
        "    print(str(energy_in_joules) + \" joules of energy!\")\n",
        "\n",
        "\n",
        "\n",
        "if __name__ == '__main__':\n",
        "    main()"
      ],
      "metadata": {
        "colab": {
          "base_uri": "https://localhost:8080/"
        },
        "id": "4UAsP4_h0iSv",
        "outputId": "ea14bcfe-bd42-486b-ca84-717509bbbacc"
      },
      "execution_count": 1,
      "outputs": [
        {
          "output_type": "stream",
          "name": "stdout",
          "text": [
            "Enter kilos of mass: 1\n",
            "e = m * C^2...\n",
            "m = 1.0 kg\n",
            "C = 299792458 m/s\n",
            "8.987551787368176e+16 joules of energy!\n"
          ]
        }
      ]
    },
    {
      "cell_type": "markdown",
      "source": [
        "**03_feet_to_inches**"
      ],
      "metadata": {
        "id": "j50-1S0j0otO"
      }
    },
    {
      "cell_type": "code",
      "source": [
        "INCHES_IN_FOOT: int = 12\n",
        "\n",
        "def main():\n",
        "    feet: float = float(input(\"Enter number of feet: \"))\n",
        "    inches: float = feet * INCHES_IN_FOOT\n",
        "    print(\"That is\", inches, \"inches!\")\n",
        "\n",
        "\n",
        "if __name__ == '__main__':\n",
        "    main()"
      ],
      "metadata": {
        "colab": {
          "base_uri": "https://localhost:8080/"
        },
        "id": "n1UKhtGH02go",
        "outputId": "5328d1be-b7bd-439c-f601-f7b45de8df45"
      },
      "execution_count": 2,
      "outputs": [
        {
          "output_type": "stream",
          "name": "stdout",
          "text": [
            "Enter number of feet: 2\n",
            "That is 24.0 inches!\n"
          ]
        }
      ]
    },
    {
      "cell_type": "markdown",
      "source": [
        "**04_pythagorean_theorem**"
      ],
      "metadata": {
        "id": "0E9QHkBr1ONA"
      }
    },
    {
      "cell_type": "code",
      "source": [
        "import math\n",
        "def main():\n",
        "\n",
        "    ab: float = float(input(\"Enter the length of AB: \"))\n",
        "    ac: float = float(input(\"Enter the length of AC: \"))\n",
        "\n",
        "    bc: float = math.sqrt(ab**2 + ac**2)\n",
        "    print(\"The length of BC (the hypotenuse) is: \" + str(bc))\n",
        "\n",
        "\n",
        "if __name__ == '__main__':\n",
        "    main()"
      ],
      "metadata": {
        "colab": {
          "base_uri": "https://localhost:8080/"
        },
        "id": "Pxg1FiCT1d2g",
        "outputId": "8cb1c1e0-8969-48f4-9b29-93541a1bb96b"
      },
      "execution_count": 3,
      "outputs": [
        {
          "output_type": "stream",
          "name": "stdout",
          "text": [
            "Enter the length of AB: 2\n",
            "Enter the length of AC: 2\n",
            "The length of BC (the hypotenuse) is: 2.8284271247461903\n"
          ]
        }
      ]
    },
    {
      "cell_type": "markdown",
      "source": [
        "**05_remainder_division**"
      ],
      "metadata": {
        "id": "w3tHmzMk1vqp"
      }
    },
    {
      "cell_type": "code",
      "source": [
        "def main():\n",
        "\n",
        "    dividend: int = int(input(\"Please enter an integer to be divided: \"))\n",
        "    divisor: int = int(input(\"Please enter an integer to divide by: \"))\n",
        "\n",
        "    quotient: int = dividend // divisor\n",
        "    remainder: int = dividend % divisor\n",
        "\n",
        "    print(\"The result of this division is \" + str(quotient) + \" with a remainder of \" + str(remainder))\n",
        "\n",
        "\n",
        "\n",
        "if __name__ == '__main__':\n",
        "    main()\n"
      ],
      "metadata": {
        "colab": {
          "base_uri": "https://localhost:8080/"
        },
        "id": "XzkKeDmN10lo",
        "outputId": "e1097436-c04a-4049-9f60-32395def5e1c"
      },
      "execution_count": 4,
      "outputs": [
        {
          "output_type": "stream",
          "name": "stdout",
          "text": [
            "Please enter an integer to be divided: 5\n",
            "Please enter an integer to divide by: 2\n",
            "The result of this division is 2 with a remainder of 1\n"
          ]
        }
      ]
    },
    {
      "cell_type": "markdown",
      "source": [
        "**06_rolldice**"
      ],
      "metadata": {
        "id": "QMa2sox22K7Q"
      }
    },
    {
      "cell_type": "code",
      "source": [
        "import random\n",
        "\n",
        "NUM_SIDES: int = 6\n",
        "\n",
        "def main():\n",
        "    die1: int = random.randint(1, NUM_SIDES)\n",
        "    die2: int = random.randint(1, NUM_SIDES)\n",
        "\n",
        "    total: int = die1 + die2\n",
        "\n",
        "\n",
        "    print(\"Dice have\", NUM_SIDES, \"sides each.\")\n",
        "    print(\"First die:\", die1)\n",
        "    print(\"Second die:\", die2)\n",
        "    print(\"Total of two dice:\", total)\n",
        "\n",
        "if __name__ == '__main__':\n",
        "    main()\n"
      ],
      "metadata": {
        "colab": {
          "base_uri": "https://localhost:8080/"
        },
        "id": "cfQwROMJ2XQo",
        "outputId": "9b5ce464-e682-4d95-80a7-c776c879900b"
      },
      "execution_count": 6,
      "outputs": [
        {
          "output_type": "stream",
          "name": "stdout",
          "text": [
            "Dice have 6 sides each.\n",
            "First die: 2\n",
            "Second die: 6\n",
            "Total of two dice: 8\n"
          ]
        }
      ]
    },
    {
      "cell_type": "markdown",
      "source": [
        "**06_seconds_in_year**"
      ],
      "metadata": {
        "id": "uqnk5UG02t7S"
      }
    },
    {
      "cell_type": "code",
      "source": [
        "DAYS_PER_YEAR: int = 365\n",
        "HOURS_PER_DAY: int = 24\n",
        "MIN_PER_HOUR: int = 60\n",
        "SEC_PER_MIN: int = 60\n",
        "\n",
        "def main():\n",
        "    print(\"There are \" + str(DAYS_PER_YEAR * HOURS_PER_DAY * MIN_PER_HOUR * SEC_PER_MIN) + \" seconds in a year!\")\n",
        "\n",
        "if __name__ == '__main__':\n",
        "    main()"
      ],
      "metadata": {
        "colab": {
          "base_uri": "https://localhost:8080/"
        },
        "id": "aWqXe-6B2-h4",
        "outputId": "38e72dd5-a8c8-4102-db30-56b1377e181e"
      },
      "execution_count": 10,
      "outputs": [
        {
          "output_type": "stream",
          "name": "stdout",
          "text": [
            "There are 31536000 seconds in a year!\n"
          ]
        }
      ]
    },
    {
      "cell_type": "markdown",
      "source": [
        "**07_tiny_mad_lib**"
      ],
      "metadata": {
        "id": "wUXRN6Zd3KV_"
      }
    },
    {
      "cell_type": "code",
      "source": [
        "SENTENCE_START: str = \"GIAIC is fun. I learned to program and used Python to make my \"\n",
        "\n",
        "def main():\n",
        "    adjective: str = input(\"Please type an adjective and press enter. \")\n",
        "    noun: str = input(\"Please type a noun and press enter. \")\n",
        "    verb: str = input(\"Please type a verb and press enter. \")\n",
        "    print(SENTENCE_START + adjective + \" \" + noun + \" \" + verb + \"!\")\n",
        "\n",
        "if __name__ == '__main__':\n",
        "    main()"
      ],
      "metadata": {
        "colab": {
          "base_uri": "https://localhost:8080/"
        },
        "id": "XNwEH7gw3wJP",
        "outputId": "adde1d23-e0dc-4480-9ec7-80b59fb37043"
      },
      "execution_count": 11,
      "outputs": [
        {
          "output_type": "stream",
          "name": "stdout",
          "text": [
            "Please type an adjective and press enter. good\n",
            "Please type a noun and press enter. shayan\n",
            "Please type a verb and press enter. eat\n",
            "GIAIC is fun. I learned to program and used Python to make my good shayan eat!\n"
          ]
        }
      ]
    }
  ]
}